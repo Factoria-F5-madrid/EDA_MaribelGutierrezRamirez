{
 "cells": [
  {
   "cell_type": "markdown",
   "id": "de96be2f",
   "metadata": {},
   "source": [
    "#Análisis EDA Adidas\n"
   ]
  },
  {
   "cell_type": "markdown",
   "id": "11340aa9",
   "metadata": {},
   "source": [
    "##Perspectiva del Análisis: marketing y creación de estrategia de crecimiento. Este EDA se centra en la perspectiva de marketing para identificar oportunidades de crecimiento."
   ]
  },
  {
   "cell_type": "code",
   "execution_count": 10,
   "id": "2af1ff63",
   "metadata": {},
   "outputs": [],
   "source": [
    "#Paso 1: importar librerias \n",
    "import seaborn as sns\n",
    "import seaborn as sns\n",
    "import matplotlib.pyplot as plt"
   ]
  },
  {
   "cell_type": "code",
   "execution_count": 11,
   "id": "d926de67",
   "metadata": {},
   "outputs": [
    {
     "name": "stdout",
     "output_type": "stream",
     "text": [
      "Downloading from https://www.kaggle.com/api/v1/datasets/download/davidmashishi/adidas-shoes-sales?dataset_version_number=1...\n"
     ]
    },
    {
     "name": "stderr",
     "output_type": "stream",
     "text": [
      "100%|██████████| 120k/120k [00:00<00:00, 424kB/s]"
     ]
    },
    {
     "name": "stdout",
     "output_type": "stream",
     "text": [
      "Extracting files...\n",
      "Path to dataset files: /Users/maribelgutierrezramirez/.cache/kagglehub/datasets/davidmashishi/adidas-shoes-sales/versions/1\n"
     ]
    },
    {
     "name": "stderr",
     "output_type": "stream",
     "text": [
      "\n"
     ]
    }
   ],
   "source": [
    "#Paso 2: Importar el Dataset\n",
    "import kagglehub\n",
    "\n",
    "# Download latest version\n",
    "path = kagglehub.dataset_download(\"davidmashishi/adidas-shoes-sales\")\n",
    "\n",
    "print(\"Path to dataset files:\", path)"
   ]
  },
  {
   "cell_type": "code",
   "execution_count": null,
   "id": "72d61cdf",
   "metadata": {},
   "outputs": [],
   "source": []
  }
 ],
 "metadata": {
  "kernelspec": {
   "display_name": "Python 3",
   "language": "python",
   "name": "python3"
  },
  "language_info": {
   "codemirror_mode": {
    "name": "ipython",
    "version": 3
   },
   "file_extension": ".py",
   "mimetype": "text/x-python",
   "name": "python",
   "nbconvert_exporter": "python",
   "pygments_lexer": "ipython3",
   "version": "3.13.5"
  }
 },
 "nbformat": 4,
 "nbformat_minor": 5
}
