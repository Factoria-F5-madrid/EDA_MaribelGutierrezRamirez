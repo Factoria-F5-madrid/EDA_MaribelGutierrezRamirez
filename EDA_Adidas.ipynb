{
 "cells": [
  {
   "cell_type": "markdown",
   "id": "de96be2f",
   "metadata": {},
   "source": [
    "#Análisis EDA Adidas\n"
   ]
  },
  {
   "cell_type": "markdown",
   "id": "11340aa9",
   "metadata": {},
   "source": [
    "##Perspectiva del Análisis: marketing y creación de estrategia de crecimiento. Este EDA se centra en la perspectiva de marketing para identificar oportunidades de crecimiento."
   ]
  },
  {
   "cell_type": "code",
   "execution_count": 1,
   "id": "2af1ff63",
   "metadata": {},
   "outputs": [],
   "source": [
    "#Paso 1: importar librerias \n",
    "import seaborn as sns\n",
    "import seaborn as sns\n",
    "import matplotlib.pyplot as plt\n",
    "import pandas as pd\n",
    "import numpy as np\n",
    "import os\n",
    "import warnings\n",
    "\n",
    "warnings.filterwarnings('ignore')\n",
    "sns.set_style(\"whitegrid\")\n",
    "%matplotlib inline\n",
    "plt.rcParams['figure.figsize'] = (6, 4)\n"
   ]
  },
  {
   "cell_type": "code",
   "execution_count": 2,
   "id": "1b45d156",
   "metadata": {},
   "outputs": [
    {
     "name": "stdout",
     "output_type": "stream",
     "text": [
      "Path to dataset files: /Users/maribelgutierrezramirez/.cache/kagglehub/datasets/davidmashishi/adidas-shoes-sales/versions/1\n"
     ]
    }
   ],
   "source": [
    "#Paso 2: Descargar datos desde Kaggle\n",
    "import kagglehub\n",
    "\n",
    "# Download latest version\n",
    "path = kagglehub.dataset_download(\"davidmashishi/adidas-shoes-sales\")\n",
    "\n",
    "print(\"Path to dataset files:\", path)"
   ]
  },
  {
   "cell_type": "code",
   "execution_count": null,
   "id": "91d66cdd",
   "metadata": {},
   "outputs": [
    {
     "name": "stdout",
     "output_type": "stream",
     "text": [
      "Archivos en el directorio: ['Adidas Shoe Sales.csv']\n"
     ]
    },
    {
     "data": {
      "text/html": [
       "<div>\n",
       "<style scoped>\n",
       "    .dataframe tbody tr th:only-of-type {\n",
       "        vertical-align: middle;\n",
       "    }\n",
       "\n",
       "    .dataframe tbody tr th {\n",
       "        vertical-align: top;\n",
       "    }\n",
       "\n",
       "    .dataframe thead th {\n",
       "        text-align: right;\n",
       "    }\n",
       "</style>\n",
       "<table border=\"1\" class=\"dataframe\">\n",
       "  <thead>\n",
       "    <tr style=\"text-align: right;\">\n",
       "      <th></th>\n",
       "      <th>Retailer</th>\n",
       "      <th>Retailer_ID</th>\n",
       "      <th>Invoice_Date</th>\n",
       "      <th>Region</th>\n",
       "      <th>State</th>\n",
       "      <th>City</th>\n",
       "      <th>Product</th>\n",
       "      <th>Price_per_Unit</th>\n",
       "      <th>Unit_Sold</th>\n",
       "      <th>Total_Sales</th>\n",
       "      <th>Operating_Profit</th>\n",
       "      <th>Sales_Method</th>\n",
       "    </tr>\n",
       "  </thead>\n",
       "  <tbody>\n",
       "    <tr>\n",
       "      <th>0</th>\n",
       "      <td>Sports Direct</td>\n",
       "      <td>1197831</td>\n",
       "      <td>8/25/2021</td>\n",
       "      <td>South</td>\n",
       "      <td>Alabama</td>\n",
       "      <td>Birmingham</td>\n",
       "      <td>Men Street Footwear</td>\n",
       "      <td>$10.00</td>\n",
       "      <td>700</td>\n",
       "      <td>7,000</td>\n",
       "      <td>$3,150</td>\n",
       "      <td>Outlet</td>\n",
       "    </tr>\n",
       "    <tr>\n",
       "      <th>1</th>\n",
       "      <td>West Gear</td>\n",
       "      <td>1185732</td>\n",
       "      <td>9/12/2021</td>\n",
       "      <td>West</td>\n",
       "      <td>Utah</td>\n",
       "      <td>Salt Lake City</td>\n",
       "      <td>Women Street Footwear</td>\n",
       "      <td>$10.00</td>\n",
       "      <td>350</td>\n",
       "      <td>3,500</td>\n",
       "      <td>$1,225</td>\n",
       "      <td>In-store</td>\n",
       "    </tr>\n",
       "    <tr>\n",
       "      <th>2</th>\n",
       "      <td>Walmart</td>\n",
       "      <td>1197831</td>\n",
       "      <td>3/19/2021</td>\n",
       "      <td>South</td>\n",
       "      <td>Arkansas</td>\n",
       "      <td>Little Rock</td>\n",
       "      <td>Women Street Footwear</td>\n",
       "      <td>$10.00</td>\n",
       "      <td>350</td>\n",
       "      <td>3,500</td>\n",
       "      <td>$1,400</td>\n",
       "      <td>Online</td>\n",
       "    </tr>\n",
       "    <tr>\n",
       "      <th>3</th>\n",
       "      <td>West Gear</td>\n",
       "      <td>1185732</td>\n",
       "      <td>9/12/2021</td>\n",
       "      <td>West</td>\n",
       "      <td>Utah</td>\n",
       "      <td>Salt Lake City</td>\n",
       "      <td>Women Athletic Footwear</td>\n",
       "      <td>$10.00</td>\n",
       "      <td>325</td>\n",
       "      <td>3,250</td>\n",
       "      <td>$1,300</td>\n",
       "      <td>In-store</td>\n",
       "    </tr>\n",
       "    <tr>\n",
       "      <th>4</th>\n",
       "      <td>West Gear</td>\n",
       "      <td>1197831</td>\n",
       "      <td>3/19/2021</td>\n",
       "      <td>South</td>\n",
       "      <td>Oklahoma</td>\n",
       "      <td>Oklahoma City</td>\n",
       "      <td>Women Street Footwear</td>\n",
       "      <td>$10.00</td>\n",
       "      <td>275</td>\n",
       "      <td>2,750</td>\n",
       "      <td>$1,100</td>\n",
       "      <td>Online</td>\n",
       "    </tr>\n",
       "  </tbody>\n",
       "</table>\n",
       "</div>"
      ],
      "text/plain": [
       "        Retailer  Retailer_ID Invoice_Date Region     State            City  \\\n",
       "0  Sports Direct      1197831    8/25/2021  South   Alabama      Birmingham   \n",
       "1      West Gear      1185732    9/12/2021   West      Utah  Salt Lake City   \n",
       "2        Walmart      1197831    3/19/2021  South  Arkansas     Little Rock   \n",
       "3      West Gear      1185732    9/12/2021   West      Utah  Salt Lake City   \n",
       "4      West Gear      1197831    3/19/2021  South  Oklahoma   Oklahoma City   \n",
       "\n",
       "                   Product Price_per_Unit Unit_Sold Total_Sales  \\\n",
       "0      Men Street Footwear         $10.00       700       7,000   \n",
       "1    Women Street Footwear         $10.00       350       3,500   \n",
       "2    Women Street Footwear         $10.00       350       3,500   \n",
       "3  Women Athletic Footwear         $10.00       325       3,250   \n",
       "4    Women Street Footwear         $10.00       275       2,750   \n",
       "\n",
       "  Operating_Profit Sales_Method  \n",
       "0           $3,150       Outlet  \n",
       "1           $1,225     In-store  \n",
       "2           $1,400       Online  \n",
       "3           $1,300     In-store  \n",
       "4           $1,100       Online  "
      ]
     },
     "metadata": {},
     "output_type": "display_data"
    }
   ],
   "source": [
    "#Paso 3 Explorar datos: Llamar el encabezado de la tabla\n",
    "\n",
    "# Verificar los archivos disponibles en el directorio\n",
    "print(\"Archivos en el directorio:\", os.listdir(path))\n",
    "\n",
    "# Cargar el archivo CSV usando el nombre correcto\n",
    "# Reemplaza 'adidas_sales.csv' por el nombre correcto si es diferente\n",
    "csv_files = [f for f in os.listdir(path) if f.endswith('.csv')]\n",
    "if csv_files:\n",
    "\tdata = pd.read_csv(os.path.join(path, csv_files[0]))\n",
    "\tdisplay(data.head())\n",
    "else:\n",
    "\tprint(\"csv No encontrado\")"
   ]
  }
 ],
 "metadata": {
  "kernelspec": {
   "display_name": "Python 3",
   "language": "python",
   "name": "python3"
  },
  "language_info": {
   "codemirror_mode": {
    "name": "ipython",
    "version": 3
   },
   "file_extension": ".py",
   "mimetype": "text/x-python",
   "name": "python",
   "nbconvert_exporter": "python",
   "pygments_lexer": "ipython3",
   "version": "3.13.5"
  }
 },
 "nbformat": 4,
 "nbformat_minor": 5
}
